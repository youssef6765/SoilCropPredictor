{
 "cells": [
  {
   "cell_type": "markdown",
   "id": "d3d001b0-2e2f-4b58-8442-99520bad831f",
   "metadata": {},
   "source": [
    "# Sowing Success: How Machine Learning Helps Farmers Select the Best Crops\n",
    "\n",
    "![Farmer in a field](farmer_in_a_field.jpg)\n",
    "\n",
    "Measuring essential soil metrics such as nitrogen, phosphorous, potassium levels, and pH value is an important aspect of assessing soil condition. However, it can be an expensive and time-consuming process, which can cause farmers to prioritize which metrics to measure based on their budget constraints.\n",
    "\n",
    "Farmers have various options when it comes to deciding which crop to plant each season. Their primary objective is to maximize the yield of their crops, taking into account different factors. One crucial factor that affects crop growth is the condition of the soil in the field, which can be assessed by measuring basic elements such as nitrogen and potassium levels. Each crop has an ideal soil condition that ensures optimal growth and maximum yield.\n",
    "\n",
    "A farmer reached out to you as a machine learning expert for assistance in selecting the best crop for his field. They've provided you with a dataset called `soil_measures.csv`, which contains:\n",
    "\n",
    "- `\"N\"`: Nitrogen content ratio in the soil\n",
    "- `\"P\"`: Phosphorous content ratio in the soil\n",
    "- `\"K\"`: Potassium content ratio in the soil\n",
    "- `\"pH\"` value of the soil\n",
    "- `\"crop\"`: categorical values that contain various crops (target variable).\n",
    "\n",
    "Each row in this dataset represents various measures of the soil in a particular field. Based on these measurements, the crop specified in the `\"crop\"` column is the optimal choice for that field.  "
   ]
  },
  {
   "cell_type": "markdown",
   "id": "7b7bfaad",
   "metadata": {},
   "source": [
    "# Library Imports\n",
    "\n",
    "## Overview\n",
    "This section lists the Python libraries imported for data preprocessing, modeling, and visualization in the analysis of the soil measures dataset.\n",
    "\n",
    "- **pandas (aliased as pd)**: Used for data manipulation and analysis.\n",
    "- **numpy (aliased as np)**: Provides support for numerical operations.\n",
    "- **matplotlib.pyplot (aliased as plt)**: Used for creating visualizations.\n",
    "- **sklearn.linear_model.LogisticRegression**: Implements the logistic regression model.\n",
    "- **sklearn.model_selection.train_test_split**: Splits data into training and testing sets.\n",
    "- **sklearn.model_selection.GridSearchCV**: Performs hyperparameter tuning with cross-validation.\n",
    "- **sklearn.preprocessing.StandardScaler**: Standardizes features by removing the mean and scaling to unit variance.\n",
    "- **sklearn.metrics.accuracy_score**: Computes the accuracy of the model predictions.\n",
    "- **sklearn.metrics.classification_report**: Generates a detailed report of classification metrics."
   ]
  },
  {
   "cell_type": "code",
   "execution_count": 2,
   "id": "d0eb4f16-5a99-460d-a5ba-706b7ef0bbe7",
   "metadata": {
    "executionCancelledAt": null,
    "executionTime": 14,
    "id": "bA5ajAmk7XH6",
    "lastExecutedAt": 1707317470036,
    "lastScheduledRunId": null,
    "lastSuccessfullyExecutedCode": "# All required libraries are imported here for you.\nimport pandas as pd\nfrom sklearn.linear_model import LogisticRegression\nfrom sklearn.ensemble import RandomForestClassifier\nfrom sklearn.model_selection import train_test_split\nfrom sklearn import metrics\n\n# Load the dataset\ncrops = pd.read_csv(\"soil_measures.csv\")\n\n# Write your code here"
   },
   "outputs": [],
   "source": [
    "import pandas as pd\n",
    "import numpy as np\n",
    "import matplotlib.pyplot as plt\n",
    "from sklearn.linear_model import LogisticRegression\n",
    "from sklearn.model_selection import train_test_split, GridSearchCV\n",
    "from sklearn.preprocessing import StandardScaler\n",
    "from sklearn.metrics import accuracy_score, classification_report"
   ]
  },
  {
   "cell_type": "markdown",
   "id": "9f28ee8b",
   "metadata": {},
   "source": [
    "## Data Loading\n",
    "The dataset is loaded into a pandas DataFrame using the following Python code:\n",
    "- **Command**: `crops = pd.read_csv(\"soil_measures.csv\")`\n",
    "\n",
    "## Data Quality Check\n",
    "A preliminary check for missing values is performed to ensure data integrity:\n",
    "\n",
    "- **Method**: `crops.isna().sum()`\n",
    "- **Output**: Printed to console to display the count of missing values for each column.\n",
    "- **Command**: `print(\"Missing values:\\n\", crops.isna().sum())`\n",
    "\n",
    "## Feature and Target Separation\n",
    "The dataset is split into features and the target variable to prepare for modeling:\n",
    "\n",
    "- **Features (X)**: All columns except the target variable `crop`, extracted using `crops.drop(columns=\"crop\")`.\n",
    "- **Target (y)**: The `crop` column, assigned using `crops[\"crop\"]`."
   ]
  },
  {
   "cell_type": "code",
   "execution_count": 3,
   "id": "1b03f63d",
   "metadata": {},
   "outputs": [
    {
     "name": "stdout",
     "output_type": "stream",
     "text": [
      "Missing values:\n",
      " N       0\n",
      "P       0\n",
      "K       0\n",
      "ph      0\n",
      "crop    0\n",
      "dtype: int64\n"
     ]
    }
   ],
   "source": [
    "# Load data\n",
    "crops = pd.read_csv(\"soil_measures.csv\")\n",
    "\n",
    "# Check for missing values\n",
    "print(\"Missing values:\\n\", crops.isna().sum())\n",
    "\n",
    "# Split into feature and target sets\n",
    "X = crops.drop(columns=\"crop\")\n",
    "y = crops[\"crop\"]"
   ]
  },
  {
   "cell_type": "markdown",
   "id": "648db527",
   "metadata": {},
   "source": [
    "# Feature Preprocessing and Data Split\n",
    "\n",
    "## Feature Standardization\n",
    "- **Tool**: `StandardScaler` from `sklearn.preprocessing`\n",
    "- **Action**: Standardizes the feature matrix `X` to have zero mean and unit variance.\n",
    "- **Command**: \n",
    "  ```python\n",
    "  scaler = StandardScaler()\n",
    "  X_scaled = scaler.fit_transform(X)\n",
    "# Data Splitting\n",
    "- **Method:** train_test_split from sklearn.model_selection\n",
    "- **Split**: 80% training, 20% testing\n",
    "- **Random State**: 42 for reproducibility"
   ]
  },
  {
   "cell_type": "code",
   "execution_count": 4,
   "id": "50dd4db7",
   "metadata": {},
   "outputs": [],
   "source": [
    "# Standardize features\n",
    "scaler = StandardScaler()\n",
    "X_scaled = scaler.fit_transform(X)\n",
    "\n",
    "# Split into training and testing sets\n",
    "X_train, X_test, y_train, y_test = train_test_split(X_scaled, y, test_size=0.2, random_state=42)\n"
   ]
  },
  {
   "cell_type": "markdown",
   "id": "dc44601f",
   "metadata": {},
   "source": [
    "# Model Training and Evaluation\n",
    "\n",
    "## Model Fitting\n",
    "- **Model**: Multinomial Logistic Regression\n",
    "- **Parameters**: `multi_class='multinomial'`, `solver='lbfgs'`, `max_iter=2000`, `class_weight='balanced'`, `random_state=42`\n",
    "- **Action**: Fits the model to the training data\n",
    "\n",
    "\n",
    "## Hyperparameter Tuning\n",
    "- **Method**: GridSearchCV with 5-fold cross-validation\n",
    "- **Parameter Grid**: `C` values [0.01, 0.1, 1, 10]\n",
    "- **Action**: Optimizes the model and selects the best parameters\n",
    "\n",
    "## Model Evaluation\n",
    "- **Action**: Predicts on test set and evaluates performance\n",
    "- **Metrics**: Accuracy and detailed classification report\n"
   ]
  },
  {
   "cell_type": "code",
   "execution_count": 6,
   "id": "6362fb1c",
   "metadata": {},
   "outputs": [
    {
     "name": "stdout",
     "output_type": "stream",
     "text": [
      "Best parameters: {'C': 10}\n",
      "Accuracy: 0.6840909090909091\n",
      "Classification Report:\n",
      "               precision    recall  f1-score   support\n",
      "\n",
      "       apple       0.82      0.39      0.53        23\n",
      "      banana       1.00      1.00      1.00        21\n",
      "   blackgram       0.80      0.60      0.69        20\n",
      "    chickpea       1.00      1.00      1.00        26\n",
      "     coconut       0.77      0.74      0.75        27\n",
      "      coffee       0.81      0.76      0.79        17\n",
      "      cotton       0.89      1.00      0.94        17\n",
      "      grapes       0.46      0.86      0.60        14\n",
      "        jute       0.52      0.57      0.54        23\n",
      " kidneybeans       0.42      0.55      0.48        20\n",
      "      lentil       0.30      0.64      0.41        11\n",
      "       maize       0.95      1.00      0.98        21\n",
      "       mango       0.48      0.63      0.55        19\n",
      "   mothbeans       0.50      0.33      0.40        24\n",
      "    mungbean       0.58      0.58      0.58        19\n",
      "   muskmelon       0.58      0.65      0.61        17\n",
      "      orange       1.00      1.00      1.00        14\n",
      "      papaya       0.88      1.00      0.94        23\n",
      "  pigeonpeas       0.21      0.13      0.16        23\n",
      " pomegranate       0.91      0.87      0.89        23\n",
      "        rice       0.50      0.32      0.39        19\n",
      "  watermelon       0.65      0.58      0.61        19\n",
      "\n",
      "    accuracy                           0.68       440\n",
      "   macro avg       0.68      0.69      0.67       440\n",
      "weighted avg       0.70      0.68      0.68       440\n",
      "\n"
     ]
    }
   ],
   "source": [
    "# Fit multinomial logistic regression with class weights\n",
    "logreg = LogisticRegression(solver='lbfgs', max_iter=2000, class_weight='balanced', random_state=42)\n",
    "logreg.fit(X_train, y_train)\n",
    "\n",
    "# Hyperparameter tuning\n",
    "param_grid = {'C': [0.01, 0.1, 1, 10]}\n",
    "grid = GridSearchCV(LogisticRegression(solver='lbfgs', max_iter=2000, class_weight='balanced'), param_grid, cv=5)\n",
    "grid.fit(X_train, y_train)\n",
    "print(\"Best parameters:\", grid.best_params_)\n",
    "logreg = grid.best_estimator_\n",
    "\n",
    "# Evaluate model\n",
    "y_pred = logreg.predict(X_test)\n",
    "print(\"Accuracy:\", accuracy_score(y_test, y_pred))\n",
    "print(\"Classification Report:\\n\", classification_report(y_test, y_pred))"
   ]
  },
  {
   "cell_type": "markdown",
   "id": "36cca698",
   "metadata": {},
   "source": [
    "## Feature Importance Analysis\n",
    "\n",
    "### Calculate Feature Importance\n",
    "- **Method**: Computes the mean absolute value of coefficients across classes\n",
    "- **Variables**: \n",
    "  - `feature_importance`: Mean absolute coefficients\n",
    "  - `features`: Column names from feature matrix `X`\n"
   ]
  },
  {
   "cell_type": "code",
   "execution_count": 7,
   "id": "074ae6cd",
   "metadata": {},
   "outputs": [
    {
     "data": {
      "image/png": "[encoded data removed]",
      "text/plain": [
       "<Figure size 800x600 with 1 Axes>"
      ]
     },
     "metadata": {},
     "output_type": "display_data"
    }
   ],
   "source": [
    "\n",
    "# Get feature importance\n",
    "feature_importance = np.abs(logreg.coef_).mean(axis=0)\n",
    "features = X.columns\n",
    "\n",
    "# Plot feature importance\n",
    "plt.figure(figsize=(8, 6))\n",
    "plt.bar(features, feature_importance, color='skyblue', edgecolor='black')\n",
    "plt.xticks(rotation=45, ha='right')\n",
    "plt.ylabel(\"Feature Importance (Mean Abs. Coefficient)\")\n",
    "plt.xlabel(\"Features\")\n",
    "plt.title(\"Feature Importance from Multinomial Logistic Regression\")\n",
    "plt.grid(axis='y', linestyle='--', alpha=0.7)\n",
    "plt.tight_layout()\n",
    "plt.show()"
   ]
  },
  {
   "cell_type": "markdown",
   "id": "38228c66",
   "metadata": {},
   "source": [
    "## Random Forest Model Training and Evaluation\n",
    "\n",
    "### Model Training\n",
    "- **Model**: Random Forest Classifier\n",
    "- **Parameters**: `random_state=42` for reproducibility, `class_weight='balanced'` to handle class imbalance\n",
    "- **Action**: Fits the model to the training data\n"
   ]
  },
  {
   "cell_type": "code",
   "execution_count": 8,
   "id": "33002775",
   "metadata": {},
   "outputs": [
    {
     "name": "stdout",
     "output_type": "stream",
     "text": [
      "Random Forest Accuracy: 0.8068181818181818\n"
     ]
    }
   ],
   "source": [
    "from sklearn.ensemble import RandomForestClassifier\n",
    "rf = RandomForestClassifier(random_state=42, class_weight='balanced')\n",
    "rf.fit(X_train, y_train)\n",
    "y_pred_rf = rf.predict(X_test)\n",
    "print(\"Random Forest Accuracy:\", accuracy_score(y_test, y_pred_rf))"
   ]
  }
 ],
 "metadata": {
  "colab": {
   "name": "Welcome to DataCamp Workspaces.ipynb",
   "provenance": []
  },
  "kernelspec": {
   "display_name": "base",
   "language": "python",
   "name": "python3"
  },
  "language_info": {
   "codemirror_mode": {
    "name": "ipython",
    "version": 3
   },
   "file_extension": ".py",
   "mimetype": "text/x-python",
   "name": "python",
   "nbconvert_exporter": "python",
   "pygments_lexer": "ipython3",
   "version": "3.13.5"
  }
 },
 "nbformat": 4,
 "nbformat_minor": 5
}
